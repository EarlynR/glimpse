{
 "cells": [
  {
   "cell_type": "code",
   "execution_count": 2,
   "metadata": {
    "collapsed": false
   },
   "outputs": [],
   "source": [
    "import tweepy\n",
    "from textblob import TextBlob\n",
    "import csv\n",
    "import os\n"
   ]
  },
  {
   "cell_type": "code",
   "execution_count": 3,
   "metadata": {
    "collapsed": true
   },
   "outputs": [],
   "source": [
    "#Variables that contains the user credentials to access Twitter API\n",
    "access_token = os.environ.get('TWITTER_ACCESS_KEY')\n",
    "access_secret = os.environ.get('TWITTER_SECRET_ACCESS_KEY')\n",
    "consumer_key = os.environ.get('TWITTER_CONSUMER_KEY')\n",
    "consumer_secret = os.environ.get('TWITTER_SECRET_CONSUMER_KEY')"
   ]
  },
  {
   "cell_type": "code",
   "execution_count": 7,
   "metadata": {
    "collapsed": true
   },
   "outputs": [],
   "source": [
    "#Stores 100 tweets\n",
    "\n",
    "auth = tweepy.OAuthHandler(consumer_key, consumer_secret)\n",
    "auth.set_access_token(access_token, access_secret)\n",
    "api = tweepyapi = tweepy.API(auth)\n",
    "public_tweets = api.search('doctor')\n",
    "count = 1\n"
   ]
  },
  {
   "cell_type": "code",
   "execution_count": 8,
   "metadata": {
    "collapsed": true
   },
   "outputs": [],
   "source": [
    "## Given to me by a dear friend when I needed some asap!\n",
    "\n",
    "#create csv file\n",
    "csvFile = open('doctor_tweets.csv', 'a')\n",
    "csvWriter = csv.writer(csvFile)\n",
    "count2 = 0\n",
    "while count <= 10000:\n",
    "    for tweet in public_tweets:\n",
    "        analysis = TextBlob(tweet.text)\n",
    "        count += 1\n",
    "        #print(tweet.text.encode('utf-8'))\n",
    "        # if analysis.polarity > 0:\n",
    "            # print(tweet.text.encode('utf-8'))\n",
    "            # print(analysis.sentiment)\n",
    "        #if analysis.sentiment.subjectivity >= 0.4:\n",
    "            # print(count, analysis.sentiment)\n",
    "        sentval = analysis.sentiment[0]\n",
    "        if sentval < 0:\n",
    "            lbl = \"negative\"\n",
    "        elif sentval == 0:\n",
    "            lbl = \"neutral\"\n",
    "        else:\n",
    "            lbl = \"positive\"\n",
    "        row = [lbl,'-',[tweet.text.encode('utf-8'), analysis.sentiment[0], analysis.sentiment[1]]]\n",
    "        \n",
    "        csvWriter.writerow(row)\n",
    "        \n",
    "        \n",
    "csvFile.close()"
   ]
  },
  {
   "cell_type": "code",
   "execution_count": null,
   "metadata": {
    "collapsed": true
   },
   "outputs": [],
   "source": []
  }
 ],
 "metadata": {
  "kernelspec": {
   "display_name": "Python 2",
   "language": "python",
   "name": "python2"
  },
  "language_info": {
   "codemirror_mode": {
    "name": "ipython",
    "version": 2
   },
   "file_extension": ".py",
   "mimetype": "text/x-python",
   "name": "python",
   "nbconvert_exporter": "python",
   "pygments_lexer": "ipython2",
   "version": "2.7.13"
  }
 },
 "nbformat": 4,
 "nbformat_minor": 2
}

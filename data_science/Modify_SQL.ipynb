{
 "cells": [
  {
   "cell_type": "code",
   "execution_count": 2,
   "metadata": {
    "collapsed": false
   },
   "outputs": [],
   "source": [
    "import pandas as pd\n",
    "import numpy as np\n",
    "import sqlite3\n",
    "import random \n",
    "\n",
    "austin_zipcodes = [78701, 78702, 78703, 78704, 78705, 78721, 78722, 78723, 78724, 78725,\n",
    "                  78726, 78727, 78728, 78729, 78730, 78731, 78732, 78733, 78734, 78735,\n",
    "                  78736, 78737, 78738, 78739, 78741, 78742, 78744,  78745, 78746, 78747,\n",
    "                  78748, 78749, 78750, 78751, 78752, 78753, 78754, 78756, 78757, 78758,\n",
    "                  78759, 78610, 78617, 78653, 78660]\n",
    "\n",
    "patient_cnx = sqlite3.connect('patient.db')\n",
    "\n",
    "patient_db = pd.read_sql_query(\"SELECT * FROM patient_data\", patient_cnx )"
   ]
  },
  {
   "cell_type": "code",
   "execution_count": 3,
   "metadata": {
    "collapsed": false
   },
   "outputs": [],
   "source": [
    "austin_db = patient_db.copy()"
   ]
  },
  {
   "cell_type": "code",
   "execution_count": 4,
   "metadata": {
    "collapsed": false
   },
   "outputs": [],
   "source": [
    "#Make all cities Austin related\n",
    "austin_db['city'] = 'Austin'"
   ]
  },
  {
   "cell_type": "code",
   "execution_count": 5,
   "metadata": {
    "collapsed": false
   },
   "outputs": [],
   "source": [
    "#Change all zipcodes to zipcodes from Austin. \n",
    "#For this project specifically, I want to focus on Austin only. \n",
    "def change_zipcode(x):\n",
    "    x = random.choice(austin_zipcodes)\n",
    "    return x\n",
    "\n",
    "austin_db.zipcode = austin_db.zipcode.apply(change_zipcode)"
   ]
  },
  {
   "cell_type": "code",
   "execution_count": 6,
   "metadata": {
    "collapsed": false
   },
   "outputs": [],
   "source": [
    "austin_db.drop(austin_db[['latitude', 'longtitude', 'sin_lat', 'cos_lat', 'rad_lon']], axis=1, inplace=True)"
   ]
  },
  {
   "cell_type": "code",
   "execution_count": 88,
   "metadata": {
    "collapsed": false
   },
   "outputs": [],
   "source": [
    "#Now that we have only the information we need, we can export to the database. \n",
    "austin_db.to_sql(name= 'austin_patients.db', con= patient_cnx, if_exists= 'replace' )"
   ]
  },
  {
   "cell_type": "code",
   "execution_count": null,
   "metadata": {
    "collapsed": true
   },
   "outputs": [],
   "source": []
  }
 ],
 "metadata": {
  "kernelspec": {
   "display_name": "Python 2",
   "language": "python",
   "name": "python2"
  },
  "language_info": {
   "codemirror_mode": {
    "name": "ipython",
    "version": 2
   },
   "file_extension": ".py",
   "mimetype": "text/x-python",
   "name": "python",
   "nbconvert_exporter": "python",
   "pygments_lexer": "ipython2",
   "version": "2.7.13"
  }
 },
 "nbformat": 4,
 "nbformat_minor": 2
}
